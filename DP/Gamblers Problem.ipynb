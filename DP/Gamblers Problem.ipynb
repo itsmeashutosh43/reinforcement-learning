{
 "cells": [
  {
   "cell_type": "markdown",
   "metadata": {
    "collapsed": true
   },
   "source": [
    "### This is Example 4.3. Gambler’s Problem from Sutton's book.\n",
    "\n",
    "A gambler has the opportunity to make bets on the outcomes of a sequence of coin flips. \n",
    "If the coin comes up heads, he wins as many dollars as he has staked on that flip; \n",
    "if it is tails, he loses his stake. The game ends when the gambler wins by reaching his goal of $100, \n",
    "or loses by running out of money. \n",
    "\n",
    "On each flip, the gambler must decide what portion of his capital to stake, in integer numbers of dollars. \n",
    "This problem can be formulated as an undiscounted, episodic, finite MDP. \n",
    "\n",
    "The state is the gambler’s capital, s ∈ {1, 2, . . . , 99}.\n",
    "The actions are stakes, a ∈ {0, 1, . . . , min(s, 100 − s)}. \n",
    "The reward is zero on all transitions except those on which the gambler reaches his goal, when it is +1.\n",
    "\n",
    "The state-value function then gives the probability of winning from each state. A policy is a mapping from levels of capital to stakes. The optimal policy maximizes the probability of reaching the goal. Let p_h denote the probability of the coin coming up heads. If p_h is known, then the entire problem is known and it can be solved, for instance, by value iteration.\n"
   ]
  },
  {
   "cell_type": "code",
   "execution_count": 1,
   "metadata": {},
   "outputs": [],
   "source": [
    "import numpy as np\n",
    "import sys\n",
    "import matplotlib.pyplot as plt\n",
    "if \"../\" not in sys.path:\n",
    "  sys.path.append(\"../\") "
   ]
  },
  {
   "cell_type": "markdown",
   "metadata": {
    "collapsed": true
   },
   "source": [
    "\n",
    "### Exercise 4.9 (programming)\n",
    "\n",
    "Implement value iteration for the gambler’s problem and solve it for p_h = 0.25 and p_h = 0.55.\n",
    "\n"
   ]
  },
  {
   "cell_type": "code",
   "execution_count": 59,
   "metadata": {},
   "outputs": [],
   "source": [
    "def value_iteration_for_gamblers(p_h, theta=0.0001, discount_factor=1.0):\n",
    "    \"\"\"\n",
    "    Args:\n",
    "        p_h: Probability of the coin coming up heads\n",
    "    \"\"\"\n",
    "    \n",
    "    rewards = np.zeros(101)\n",
    "    rewards[100] = 1\n",
    "    \n",
    "    \n",
    "    V = np.zeros(101)\n",
    "    \n",
    "    \n",
    "    def one_step_lookahead(s, V, rewards):\n",
    "        \"\"\"\n",
    "        Helper function to calculate the value for all action in a given state.\n",
    "        \n",
    "        Args:\n",
    "            s: The gambler’s capital. Integer.\n",
    "            V: The vector that contains values at each state. \n",
    "            rewards: The reward vector.\n",
    "                        \n",
    "        Returns:\n",
    "            A vector containing the expected value of each action. \n",
    "            Its length equals to the number of actions.\n",
    "        \"\"\"\n",
    "        number_of_state = min(s,100-s)\n",
    "        \n",
    "        A = np.zeros(number_of_state + 1)\n",
    "        \n",
    "        \n",
    "        \n",
    "        for a in range(number_of_state + 1):\n",
    "            A[a] = p_h* (rewards[s + a] + discount_factor * V[s + a]) + (1-p_h) * (rewards[s-a] + V[s-a]*discount_factor) \n",
    "        return A\n",
    "    \n",
    "    while True:\n",
    "        delta = 0\n",
    "        for s in range(1,101):\n",
    "            v = V[s]\n",
    "            best_v = one_step_lookahead(s , V , rewards)\n",
    "            \n",
    "            delta = max(abs(V[s] - v),delta)\n",
    "            \n",
    "            V[s] = max(best_v)\n",
    "        \n",
    "        if delta < theta:\n",
    "            break\n",
    "    policy = np.zeros(101)\n",
    "\n",
    "    for s in range(1,101):\n",
    "        lookUp_policy = one_step_lookahead(s, V , rewards)\n",
    "        best_action = np.argmax(lookUp_policy)\n",
    "        policy[s] = best_action \n",
    "        \n",
    "    return policy, V"
   ]
  },
  {
   "cell_type": "code",
   "execution_count": 60,
   "metadata": {},
   "outputs": [
    {
     "name": "stdout",
     "output_type": "stream",
     "text": [
      "Optimized Policy:\n",
      "[ 0.  0.  0.  0.  0.  0.  0.  0.  0.  0.  0.  0.  0.  0.  0.  0.  0.  0.\n",
      "  0.  0.  0.  0.  0.  0.  0. 25. 24. 23. 22. 21. 20. 19. 18. 17. 16. 15.\n",
      " 14. 13. 37. 36. 35. 34. 33. 32. 44. 43. 42. 47. 46. 48. 50. 49. 48. 47.\n",
      " 46. 45. 44. 43. 42. 41. 40. 39. 38. 37. 36. 35. 34. 33. 32. 31. 30. 29.\n",
      " 28. 27. 26. 25. 24. 23. 22. 21. 20. 19. 18. 17. 16. 15. 14. 13. 12. 11.\n",
      " 10.  9.  8.  7.  6.  5.  4.  3.  2.  1.]\n",
      "\n",
      "Optimized Value Function:\n",
      "[0.         0.         0.         0.         0.         0.\n",
      " 0.         0.         0.         0.         0.         0.\n",
      " 0.         0.         0.         0.         0.         0.\n",
      " 0.         0.         0.         0.         0.         0.\n",
      " 0.         0.         0.         0.         0.         0.\n",
      " 0.         0.         0.         0.         0.         0.\n",
      " 0.         0.         0.         0.         0.         0.\n",
      " 0.         0.         0.         0.         0.         0.\n",
      " 0.         0.         0.25       0.25       0.25       0.25\n",
      " 0.25       0.25       0.25       0.25       0.25       0.25\n",
      " 0.25       0.25       0.25       0.25       0.25       0.25\n",
      " 0.25       0.25       0.25       0.25       0.25       0.25\n",
      " 0.25       0.25       0.25       0.4375     0.4375     0.4375\n",
      " 0.4375     0.4375     0.4375     0.4375     0.4375     0.4375\n",
      " 0.4375     0.4375     0.4375     0.4375     0.578125   0.578125\n",
      " 0.578125   0.578125   0.578125   0.578125   0.68359375 0.68359375\n",
      " 0.68359375 0.76269531 0.76269531 0.82202148 1.        ]\n",
      "\n"
     ]
    }
   ],
   "source": [
    "policy, v = value_iteration_for_gamblers(0.25)\n",
    "\n",
    "\n",
    "print(\"Optimized Policy:\")\n",
    "print(policy[0:100])\n",
    "print(\"\")\n",
    "\n",
    "print(\"Optimized Value Function:\")\n",
    "print(v)\n",
    "print(\"\")"
   ]
  },
  {
   "cell_type": "code",
   "execution_count": 5,
   "metadata": {
    "collapsed": true
   },
   "outputs": [],
   "source": [
    "# Plotting Final Policy (action stake) vs State (Capital)\n",
    "\n",
    "# Implement!"
   ]
  },
  {
   "cell_type": "code",
   "execution_count": 6,
   "metadata": {
    "collapsed": true
   },
   "outputs": [],
   "source": [
    "# Plotting Capital vs Final Policy\n",
    "\n",
    "# Implement!\n"
   ]
  }
 ],
 "metadata": {
  "kernelspec": {
   "display_name": "Python 3",
   "language": "python",
   "name": "python3"
  },
  "language_info": {
   "codemirror_mode": {
    "name": "ipython",
    "version": 3
   },
   "file_extension": ".py",
   "mimetype": "text/x-python",
   "name": "python",
   "nbconvert_exporter": "python",
   "pygments_lexer": "ipython3",
   "version": "3.6.9"
  }
 },
 "nbformat": 4,
 "nbformat_minor": 1
}
